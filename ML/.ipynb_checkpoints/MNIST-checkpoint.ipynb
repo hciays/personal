{
 "cells": [
  {
   "cell_type": "code",
   "execution_count": 46,
   "metadata": {},
   "outputs": [],
   "source": [
    "import numpy as np\n",
    "import struct\n",
    "from array import array\n",
    "from os.path import join"
   ]
  },
  {
   "cell_type": "code",
   "execution_count": 47,
   "metadata": {},
   "outputs": [],
   "source": [
    "class MnistDataloader(object):\n",
    "    def __init__(self, training_image_file_path, training_label_file_path, test_image_file_path, test_label_file_path):\n",
    "        self.training_image_file_path = training_image_file_path\n",
    "        self.training_label_file_path = training_label_file_path\n",
    "        self.test_image_file_path = test_image_file_path\n",
    "        self.test_label_file_path = test_label_file_path\n",
    "    def readImagesLabel(self, image_filepath, label_filepath):\n",
    "        labels = []\n",
    "        with open(label_filepath, \"rb\") as file:\n",
    "            magic, size = struct.unpack(\">II\", file.read(8))\n",
    "            if magic != 2049:\n",
    "                raise ValueError(\"Magic Number mismatch, expected 2049, got {}\".format(magic))\n",
    "            labels = array(\"B\",file.read())\n",
    "        with open(image_filepath, \"rb\") as file:\n",
    "            magic, size, rows, cols =struct.unpack(\">IIII\", file.read(16))\n",
    "            if magic != 2051:\n",
    "                raise ValueError(\"Magic number mismatch, expected 2051, got {}\".format(magic))\n",
    "            image_data = array(\"B\", file.read())\n",
    "        images = []\n",
    "        for i in range(size):\n",
    "            images.append([0]*rows*cols)\n",
    "        for i in range(size):\n",
    "            img = np.array(image_data[i*rows*cols:(i+1)*rows*cols])\n",
    "            img = img.reshape(28, 28)\n",
    "            images[i][:] = img\n",
    "        return images, labels\n",
    "    \n",
    "    def loadData(self):\n",
    "        X_train, y_train = self.readImagesLabel(self.training_image_file_path, self.training_label_file_path)\n",
    "        X_test, y_test = self.readImagesLabel(self.test_image_file_path, self.test_label_file_path)\n",
    "        return (X_train,y_train), (X_test, y_test)\n",
    "            "
   ]
  },
  {
   "cell_type": "code",
   "execution_count": 48,
   "metadata": {},
   "outputs": [],
   "source": [
    "import os\n",
    "import random\n",
    "%matplotlib inline\n",
    "import matplotlib.pyplot as plt"
   ]
  },
  {
   "cell_type": "code",
   "execution_count": 49,
   "metadata": {},
   "outputs": [
    {
     "name": "stdout",
     "output_type": "stream",
     "text": [
      "C:\\Users\\ays\\Desktop\\ML\n"
     ]
    }
   ],
   "source": [
    "directory=os.getcwd()\n",
    "print(directory)\n",
    "training_image_file_path_a = directory+\"\\\\train-images.idx3-ubyte\"\n",
    "training_label_file_path_a = directory+\"\\\\train-labels.idx1-ubyte\"\n",
    "test_image_file_path_a = directory+\"\\\\t10k-images.idx3-ubyte\"\n",
    "test_label_file_path_a = directory+\"\\\\t10k-labels.idx1-ubyte\""
   ]
  },
  {
   "cell_type": "code",
   "execution_count": 50,
   "metadata": {},
   "outputs": [],
   "source": [
    "mnist_dataloader = MnistDataloader(training_image_file_path_a, training_label_file_path_a, test_image_file_path_a, test_label_file_path_a)\n",
    "(x_train, y_train), (x_test, y_test) = mnist_dataloader.loadData()"
   ]
  },
  {
   "cell_type": "code",
   "execution_count": 51,
   "metadata": {},
   "outputs": [
    {
     "ename": "AttributeError",
     "evalue": "'array.array' object has no attribute 'shape'",
     "output_type": "error",
     "traceback": [
      "\u001b[1;31m---------------------------------------------------------------------------\u001b[0m",
      "\u001b[1;31mAttributeError\u001b[0m                            Traceback (most recent call last)",
      "\u001b[1;32m<ipython-input-51-4f30429c224a>\u001b[0m in \u001b[0;36m<module>\u001b[1;34m\u001b[0m\n\u001b[1;32m----> 1\u001b[1;33m \u001b[0my_test\u001b[0m\u001b[1;33m.\u001b[0m\u001b[0mshape\u001b[0m\u001b[1;33m\u001b[0m\u001b[1;33m\u001b[0m\u001b[0m\n\u001b[0m",
      "\u001b[1;31mAttributeError\u001b[0m: 'array.array' object has no attribute 'shape'"
     ]
    }
   ],
   "source": [
    "y_test.shape"
   ]
  },
  {
   "cell_type": "code",
   "execution_count": null,
   "metadata": {},
   "outputs": [],
   "source": []
  }
 ],
 "metadata": {
  "kernelspec": {
   "display_name": "Python 3",
   "language": "python",
   "name": "python3"
  },
  "language_info": {
   "codemirror_mode": {
    "name": "ipython",
    "version": 3
   },
   "file_extension": ".py",
   "mimetype": "text/x-python",
   "name": "python",
   "nbconvert_exporter": "python",
   "pygments_lexer": "ipython3",
   "version": "3.8.3"
  }
 },
 "nbformat": 4,
 "nbformat_minor": 4
}
