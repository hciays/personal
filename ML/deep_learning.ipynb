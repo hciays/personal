{
 "cells": [
  {
   "cell_type": "code",
   "execution_count": 1,
   "metadata": {},
   "outputs": [],
   "source": [
    "import torch as tc"
   ]
  },
  {
   "cell_type": "code",
   "execution_count": 2,
   "metadata": {},
   "outputs": [
    {
     "data": {
      "text/plain": [
       "'1.9.1'"
      ]
     },
     "execution_count": 2,
     "metadata": {},
     "output_type": "execute_result"
    }
   ],
   "source": [
    "tc.__version__"
   ]
  },
  {
   "cell_type": "code",
   "execution_count": 3,
   "metadata": {},
   "outputs": [
    {
     "name": "stdout",
     "output_type": "stream",
     "text": [
      "tensor([[1., 0., 1., 0.],\n",
      "        [1., 0., 1., 1.],\n",
      "        [0., 1., 0., 1.]]) \n",
      "\n",
      "tensor([[1.],\n",
      "        [1.],\n",
      "        [0.]])\n"
     ]
    }
   ],
   "source": [
    "#First Model creation \n",
    "X= tc.Tensor([[1,0,1,0],[1,0,1,1],[0,1,0,1]])\n",
    "y= tc.Tensor([[1],[1],[0]])\n",
    "print(X,\"\\n\")\n",
    "print(y)"
   ]
  },
  {
   "cell_type": "code",
   "execution_count": 4,
   "metadata": {},
   "outputs": [],
   "source": [
    "def sigmoid(x):\n",
    "    return 1/(1+ tc.exp(-x))"
   ]
  },
  {
   "cell_type": "code",
   "execution_count": 5,
   "metadata": {},
   "outputs": [],
   "source": [
    "def derive_sigmoid(x):\n",
    "    return sigmoid(x)*(1- sigmoid(x))"
   ]
  },
  {
   "cell_type": "code",
   "execution_count": 6,
   "metadata": {},
   "outputs": [],
   "source": [
    "#Variable initialisation\n",
    "epoch = 500\n",
    "learning_rate= 0.2\n",
    "input_layer = X.shape[1]\n",
    "hidden_layer =3\n",
    "output_layer=y.shape[1]"
   ]
  },
  {
   "cell_type": "code",
   "execution_count": 7,
   "metadata": {},
   "outputs": [],
   "source": [
    "#Weights and bais intialisation\n",
    "wh = tc.rand(input_layer, hidden_layer).type(tc.FloatTensor)\n",
    "bh = tc.rand(1, hidden_layer).type(tc.FloatTensor)\n",
    "wout = tc.rand(hidden_layer,output_layer)\n",
    "bout = tc.rand(1, output_layer)"
   ]
  },
  {
   "cell_type": "code",
   "execution_count": 8,
   "metadata": {},
   "outputs": [],
   "source": [
    "for i in range(epoch):\n",
    "    \n",
    "    #Forward pass\n",
    "    \n",
    "    first_with_bias= tc.mm(X,wh) +bh\n",
    "    activation = sigmoid(first_with_bias)\n",
    "    \n",
    "    hidden_with_bais = tc.mm(activation, wout) + bout\n",
    "    output = sigmoid(hidden_with_bais)\n",
    "    \n",
    "    #Backpropagation\n",
    "    E = y -output\n",
    "    sloop_output = derive_sigmoid(output)\n",
    "    sloop_hidden = derive_sigmoid(activation)\n",
    "    error_at_output= E*sloop_output\n",
    "    error_at_hidden_layer = tc.mm(error_at_output, wout.t())\n",
    "    derivative_at_hidden= error_at_hidden_layer*sloop_hidden\n",
    "    \n",
    "    wout+= (tc.mm(activation.t(),error_at_output)*(learning_rate))\n",
    "    bout+= error_at_output.sum()*learning_rate\n",
    "    wh+=(tc.mm(X.t(),derivative_at_hidden)*learning_rate)\n",
    "    bh+= derivative_at_hidden.sum()*learning_rate\n",
    "    "
   ]
  },
  {
   "cell_type": "code",
   "execution_count": 9,
   "metadata": {},
   "outputs": [
    {
     "name": "stdout",
     "output_type": "stream",
     "text": [
      "Actual:\n",
      " tensor([[1.],\n",
      "        [1.],\n",
      "        [0.]]) \n",
      "\n",
      "Predicted tensor([[0.9641],\n",
      "        [0.9490],\n",
      "        [0.0729]])\n"
     ]
    }
   ],
   "source": [
    "print(\"Actual:\\n\",y, \"\\n\")\n",
    "print(\"Predicted\", output)"
   ]
  },
  {
   "cell_type": "code",
   "execution_count": null,
   "metadata": {},
   "outputs": [],
   "source": []
  }
 ],
 "metadata": {
  "kernelspec": {
   "display_name": "Python 3",
   "language": "python",
   "name": "python3"
  },
  "language_info": {
   "codemirror_mode": {
    "name": "ipython",
    "version": 3
   },
   "file_extension": ".py",
   "mimetype": "text/x-python",
   "name": "python",
   "nbconvert_exporter": "python",
   "pygments_lexer": "ipython3",
   "version": "3.8.3"
  }
 },
 "nbformat": 4,
 "nbformat_minor": 4
}
